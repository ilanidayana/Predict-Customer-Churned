{
 "cells": [
  {
   "cell_type": "markdown",
   "id": "cc7867a7",
   "metadata": {},
   "source": [
    "# Predict Customer Churned"
   ]
  },
  {
   "cell_type": "markdown",
   "id": "2f8e9014",
   "metadata": {},
   "source": [
    "- Ilani Dayana Binti Noor Azman\n",
    "- Assessment 2"
   ]
  },
  {
   "cell_type": "markdown",
   "id": "d7f59089",
   "metadata": {},
   "source": [
    "This case is only focused on current churned of the customer and predict which customer is highly to cancel the service. A high churn rate can negatively impact Monthly Recurring Revenue (MRR) and can also indicate dissatisfaction with a product or service. By analysis the customer who is highly in current churned will improve the customer retention rate by preventing current customers from leaving and keeping potential customers from becoming competitors' new customers. In addition, it can also help businesses understand why they are losing customers to make changes to their business."
   ]
  },
  {
   "cell_type": "markdown",
   "id": "fa69615c",
   "metadata": {},
   "source": [
    "Objectives:\n",
    "    i) To detecting which customers are likely to leave a service or to cancel a subscription to a service. "
   ]
  },
  {
   "cell_type": "code",
   "execution_count": 1,
   "id": "6981c6fb",
   "metadata": {},
   "outputs": [],
   "source": [
    "import numpy as np\n",
    "import pandas as pd\n",
    "import matplotlib.pyplot as plt\n",
    "import seaborn as sns\n",
    "%matplotlib inline"
   ]
  },
  {
   "cell_type": "markdown",
   "id": "c8f83ead",
   "metadata": {},
   "source": [
    "# 1. Exploratory Data Analysis"
   ]
  },
  {
   "cell_type": "code",
   "execution_count": 2,
   "id": "39408d1c",
   "metadata": {},
   "outputs": [
    {
     "data": {
      "text/plain": [
       "(1477, 15)"
      ]
     },
     "execution_count": 2,
     "metadata": {},
     "output_type": "execute_result"
    }
   ],
   "source": [
    "#Dataset\n",
    "df = pd.read_csv(\"telco_churn.csv\")\n",
    "df.shape"
   ]
  },
  {
   "cell_type": "code",
   "execution_count": 4,
   "id": "56e772dd",
   "metadata": {},
   "outputs": [
    {
     "data": {
      "text/plain": [
       "0"
      ]
     },
     "execution_count": 4,
     "metadata": {},
     "output_type": "execute_result"
    }
   ],
   "source": [
    "df.isna().sum().sum()"
   ]
  },
  {
   "cell_type": "markdown",
   "id": "40ce92f9",
   "metadata": {},
   "source": [
    "There is no missing value in the data set so we can jump to explore it. We can start with the target variable:"
   ]
  },
  {
   "cell_type": "code",
   "execution_count": 5,
   "id": "9e223fc8",
   "metadata": {
    "scrolled": true
   },
   "outputs": [
    {
     "data": {
      "text/plain": [
       "Current    832\n",
       "Vol        513\n",
       "InVol      132\n",
       "Name: CHURNED, dtype: int64"
      ]
     },
     "execution_count": 5,
     "metadata": {},
     "output_type": "execute_result"
    }
   ],
   "source": [
    "df.CHURNED.value_counts()"
   ]
  },
  {
   "cell_type": "code",
   "execution_count": 6,
   "id": "7c8ccc19",
   "metadata": {
    "scrolled": true
   },
   "outputs": [
    {
     "data": {
      "text/html": [
       "<div>\n",
       "<style scoped>\n",
       "    .dataframe tbody tr th:only-of-type {\n",
       "        vertical-align: middle;\n",
       "    }\n",
       "\n",
       "    .dataframe tbody tr th {\n",
       "        vertical-align: top;\n",
       "    }\n",
       "\n",
       "    .dataframe thead th {\n",
       "        text-align: right;\n",
       "    }\n",
       "</style>\n",
       "<table border=\"1\" class=\"dataframe\">\n",
       "  <thead>\n",
       "    <tr style=\"text-align: right;\">\n",
       "      <th></th>\n",
       "      <th>ID</th>\n",
       "      <th>LONGDIST</th>\n",
       "      <th>International</th>\n",
       "      <th>LOCAL</th>\n",
       "      <th>DROPPED</th>\n",
       "      <th>PAY_MTHD</th>\n",
       "      <th>LocalBillType</th>\n",
       "      <th>LongDistanceBillType</th>\n",
       "      <th>AGE</th>\n",
       "      <th>SEX</th>\n",
       "      <th>STATUS</th>\n",
       "      <th>CHILDREN</th>\n",
       "      <th>Est_Income</th>\n",
       "      <th>Car_Owner</th>\n",
       "      <th>CHURNED</th>\n",
       "    </tr>\n",
       "  </thead>\n",
       "  <tbody>\n",
       "    <tr>\n",
       "      <th>0</th>\n",
       "      <td>0</td>\n",
       "      <td>5.246</td>\n",
       "      <td>7.515</td>\n",
       "      <td>86.328</td>\n",
       "      <td>0</td>\n",
       "      <td>CH</td>\n",
       "      <td>FreeLocal</td>\n",
       "      <td>Standard</td>\n",
       "      <td>57</td>\n",
       "      <td>F</td>\n",
       "      <td>M</td>\n",
       "      <td>2</td>\n",
       "      <td>27535.3</td>\n",
       "      <td>Y</td>\n",
       "      <td>Vol</td>\n",
       "    </tr>\n",
       "    <tr>\n",
       "      <th>1</th>\n",
       "      <td>3</td>\n",
       "      <td>0.000</td>\n",
       "      <td>0.000</td>\n",
       "      <td>3.942</td>\n",
       "      <td>0</td>\n",
       "      <td>CC</td>\n",
       "      <td>Budget</td>\n",
       "      <td>Intnl_discount</td>\n",
       "      <td>50</td>\n",
       "      <td>F</td>\n",
       "      <td>S</td>\n",
       "      <td>2</td>\n",
       "      <td>64632.3</td>\n",
       "      <td>N</td>\n",
       "      <td>InVol</td>\n",
       "    </tr>\n",
       "    <tr>\n",
       "      <th>2</th>\n",
       "      <td>4</td>\n",
       "      <td>5.556</td>\n",
       "      <td>0.000</td>\n",
       "      <td>9.363</td>\n",
       "      <td>1</td>\n",
       "      <td>CC</td>\n",
       "      <td>Budget</td>\n",
       "      <td>Intnl_discount</td>\n",
       "      <td>68</td>\n",
       "      <td>F</td>\n",
       "      <td>M</td>\n",
       "      <td>2</td>\n",
       "      <td>81000.9</td>\n",
       "      <td>N</td>\n",
       "      <td>Vol</td>\n",
       "    </tr>\n",
       "    <tr>\n",
       "      <th>3</th>\n",
       "      <td>8</td>\n",
       "      <td>14.019</td>\n",
       "      <td>5.680</td>\n",
       "      <td>29.806</td>\n",
       "      <td>0</td>\n",
       "      <td>CC</td>\n",
       "      <td>Budget</td>\n",
       "      <td>Standard</td>\n",
       "      <td>34</td>\n",
       "      <td>M</td>\n",
       "      <td>S</td>\n",
       "      <td>0</td>\n",
       "      <td>87467.1</td>\n",
       "      <td>Y</td>\n",
       "      <td>Current</td>\n",
       "    </tr>\n",
       "    <tr>\n",
       "      <th>4</th>\n",
       "      <td>10</td>\n",
       "      <td>13.664</td>\n",
       "      <td>2.956</td>\n",
       "      <td>32.638</td>\n",
       "      <td>0</td>\n",
       "      <td>CC</td>\n",
       "      <td>FreeLocal</td>\n",
       "      <td>Intnl_discount</td>\n",
       "      <td>60</td>\n",
       "      <td>M</td>\n",
       "      <td>M</td>\n",
       "      <td>2</td>\n",
       "      <td>83220.6</td>\n",
       "      <td>N</td>\n",
       "      <td>Vol</td>\n",
       "    </tr>\n",
       "    <tr>\n",
       "      <th>...</th>\n",
       "      <td>...</td>\n",
       "      <td>...</td>\n",
       "      <td>...</td>\n",
       "      <td>...</td>\n",
       "      <td>...</td>\n",
       "      <td>...</td>\n",
       "      <td>...</td>\n",
       "      <td>...</td>\n",
       "      <td>...</td>\n",
       "      <td>...</td>\n",
       "      <td>...</td>\n",
       "      <td>...</td>\n",
       "      <td>...</td>\n",
       "      <td>...</td>\n",
       "      <td>...</td>\n",
       "    </tr>\n",
       "    <tr>\n",
       "      <th>1472</th>\n",
       "      <td>4991</td>\n",
       "      <td>0.000</td>\n",
       "      <td>0.000</td>\n",
       "      <td>0.731</td>\n",
       "      <td>0</td>\n",
       "      <td>CC</td>\n",
       "      <td>FreeLocal</td>\n",
       "      <td>Standard</td>\n",
       "      <td>75</td>\n",
       "      <td>F</td>\n",
       "      <td>M</td>\n",
       "      <td>0</td>\n",
       "      <td>41138.2</td>\n",
       "      <td>N</td>\n",
       "      <td>InVol</td>\n",
       "    </tr>\n",
       "    <tr>\n",
       "      <th>1473</th>\n",
       "      <td>4993</td>\n",
       "      <td>0.000</td>\n",
       "      <td>0.000</td>\n",
       "      <td>1.107</td>\n",
       "      <td>0</td>\n",
       "      <td>CC</td>\n",
       "      <td>FreeLocal</td>\n",
       "      <td>Standard</td>\n",
       "      <td>95</td>\n",
       "      <td>F</td>\n",
       "      <td>S</td>\n",
       "      <td>2</td>\n",
       "      <td>52997.5</td>\n",
       "      <td>Y</td>\n",
       "      <td>Vol</td>\n",
       "    </tr>\n",
       "    <tr>\n",
       "      <th>1474</th>\n",
       "      <td>4996</td>\n",
       "      <td>9.082</td>\n",
       "      <td>7.040</td>\n",
       "      <td>13.040</td>\n",
       "      <td>0</td>\n",
       "      <td>CH</td>\n",
       "      <td>FreeLocal</td>\n",
       "      <td>Standard</td>\n",
       "      <td>70</td>\n",
       "      <td>F</td>\n",
       "      <td>M</td>\n",
       "      <td>1</td>\n",
       "      <td>85192.9</td>\n",
       "      <td>Y</td>\n",
       "      <td>Vol</td>\n",
       "    </tr>\n",
       "    <tr>\n",
       "      <th>1475</th>\n",
       "      <td>4998</td>\n",
       "      <td>22.622</td>\n",
       "      <td>0.000</td>\n",
       "      <td>25.763</td>\n",
       "      <td>0</td>\n",
       "      <td>CC</td>\n",
       "      <td>Budget</td>\n",
       "      <td>Standard</td>\n",
       "      <td>37</td>\n",
       "      <td>M</td>\n",
       "      <td>M</td>\n",
       "      <td>0</td>\n",
       "      <td>11693.3</td>\n",
       "      <td>N</td>\n",
       "      <td>Current</td>\n",
       "    </tr>\n",
       "    <tr>\n",
       "      <th>1476</th>\n",
       "      <td>4999</td>\n",
       "      <td>21.520</td>\n",
       "      <td>0.000</td>\n",
       "      <td>19.190</td>\n",
       "      <td>0</td>\n",
       "      <td>CC</td>\n",
       "      <td>FreeLocal</td>\n",
       "      <td>Intnl_discount</td>\n",
       "      <td>41</td>\n",
       "      <td>M</td>\n",
       "      <td>M</td>\n",
       "      <td>0</td>\n",
       "      <td>59898.4</td>\n",
       "      <td>N</td>\n",
       "      <td>Current</td>\n",
       "    </tr>\n",
       "  </tbody>\n",
       "</table>\n",
       "<p>1477 rows × 15 columns</p>\n",
       "</div>"
      ],
      "text/plain": [
       "        ID  LONGDIST  International   LOCAL  DROPPED PAY_MTHD LocalBillType  \\\n",
       "0        0     5.246          7.515  86.328        0       CH     FreeLocal   \n",
       "1        3     0.000          0.000   3.942        0       CC        Budget   \n",
       "2        4     5.556          0.000   9.363        1       CC        Budget   \n",
       "3        8    14.019          5.680  29.806        0       CC        Budget   \n",
       "4       10    13.664          2.956  32.638        0       CC     FreeLocal   \n",
       "...    ...       ...            ...     ...      ...      ...           ...   \n",
       "1472  4991     0.000          0.000   0.731        0       CC     FreeLocal   \n",
       "1473  4993     0.000          0.000   1.107        0       CC     FreeLocal   \n",
       "1474  4996     9.082          7.040  13.040        0       CH     FreeLocal   \n",
       "1475  4998    22.622          0.000  25.763        0       CC        Budget   \n",
       "1476  4999    21.520          0.000  19.190        0       CC     FreeLocal   \n",
       "\n",
       "     LongDistanceBillType  AGE SEX STATUS  CHILDREN  Est_Income Car_Owner  \\\n",
       "0                Standard   57   F      M         2     27535.3         Y   \n",
       "1          Intnl_discount   50   F      S         2     64632.3         N   \n",
       "2          Intnl_discount   68   F      M         2     81000.9         N   \n",
       "3                Standard   34   M      S         0     87467.1         Y   \n",
       "4          Intnl_discount   60   M      M         2     83220.6         N   \n",
       "...                   ...  ...  ..    ...       ...         ...       ...   \n",
       "1472             Standard   75   F      M         0     41138.2         N   \n",
       "1473             Standard   95   F      S         2     52997.5         Y   \n",
       "1474             Standard   70   F      M         1     85192.9         Y   \n",
       "1475             Standard   37   M      M         0     11693.3         N   \n",
       "1476       Intnl_discount   41   M      M         0     59898.4         N   \n",
       "\n",
       "      CHURNED  \n",
       "0         Vol  \n",
       "1       InVol  \n",
       "2         Vol  \n",
       "3     Current  \n",
       "4         Vol  \n",
       "...       ...  \n",
       "1472    InVol  \n",
       "1473      Vol  \n",
       "1474      Vol  \n",
       "1475  Current  \n",
       "1476  Current  \n",
       "\n",
       "[1477 rows x 15 columns]"
      ]
     },
     "execution_count": 6,
     "metadata": {},
     "output_type": "execute_result"
    }
   ],
   "source": [
    "df"
   ]
  },
  {
   "cell_type": "markdown",
   "id": "a3a47aec",
   "metadata": {},
   "source": [
    "## 1.1 Binary Categorical Features"
   ]
  },
  {
   "cell_type": "code",
   "execution_count": 7,
   "id": "5030c983",
   "metadata": {},
   "outputs": [],
   "source": [
    "columns = df.columns\n",
    "binary_cols = []\n",
    "for col in columns:\n",
    "    if df[col].value_counts().shape[0] == 2:\n",
    "        binary_cols.append(col)"
   ]
  },
  {
   "cell_type": "code",
   "execution_count": 8,
   "id": "f787d7a0",
   "metadata": {
    "scrolled": true
   },
   "outputs": [
    {
     "name": "stderr",
     "output_type": "stream",
     "text": [
      "C:\\ProgramData\\Anaconda3\\lib\\site-packages\\seaborn\\_decorators.py:36: FutureWarning: Pass the following variable as a keyword arg: x. From version 0.12, the only valid positional argument will be `data`, and passing other arguments without an explicit keyword will result in an error or misinterpretation.\n",
      "  warnings.warn(\n",
      "C:\\ProgramData\\Anaconda3\\lib\\site-packages\\seaborn\\_decorators.py:36: FutureWarning: Pass the following variable as a keyword arg: x. From version 0.12, the only valid positional argument will be `data`, and passing other arguments without an explicit keyword will result in an error or misinterpretation.\n",
      "  warnings.warn(\n",
      "C:\\ProgramData\\Anaconda3\\lib\\site-packages\\seaborn\\_decorators.py:36: FutureWarning: Pass the following variable as a keyword arg: x. From version 0.12, the only valid positional argument will be `data`, and passing other arguments without an explicit keyword will result in an error or misinterpretation.\n",
      "  warnings.warn(\n",
      "C:\\ProgramData\\Anaconda3\\lib\\site-packages\\seaborn\\_decorators.py:36: FutureWarning: Pass the following variable as a keyword arg: x. From version 0.12, the only valid positional argument will be `data`, and passing other arguments without an explicit keyword will result in an error or misinterpretation.\n",
      "  warnings.warn(\n",
      "C:\\ProgramData\\Anaconda3\\lib\\site-packages\\seaborn\\_decorators.py:36: FutureWarning: Pass the following variable as a keyword arg: x. From version 0.12, the only valid positional argument will be `data`, and passing other arguments without an explicit keyword will result in an error or misinterpretation.\n",
      "  warnings.warn(\n",
      "C:\\ProgramData\\Anaconda3\\lib\\site-packages\\seaborn\\_decorators.py:36: FutureWarning: Pass the following variable as a keyword arg: x. From version 0.12, the only valid positional argument will be `data`, and passing other arguments without an explicit keyword will result in an error or misinterpretation.\n",
      "  warnings.warn(\n"
     ]
    },
    {
     "data": {
      "text/plain": [
       "<AxesSubplot:xlabel='LongDistanceBillType', ylabel='count'>"
      ]
     },
     "execution_count": 8,
     "metadata": {},
     "output_type": "execute_result"
    },
    {
     "data": {
      "image/png": "[encoded data removed]",
      "text/plain": [
       "<Figure size 864x504 with 6 Axes>"
      ]
     },
     "metadata": {
      "needs_background": "light"
     },
     "output_type": "display_data"
    }
   ],
   "source": [
    "fig, axes = plt.subplots(2, 3, figsize=(12, 7), sharey=True)\n",
    "sns.countplot(\"SEX\", data=df, ax=axes[0,0])\n",
    "sns.countplot(\"STATUS\", data=df, ax=axes[0,1])\n",
    "sns.countplot(\"Car_Owner\", data=df, ax=axes[0,2])\n",
    "sns.countplot(\"PAY_MTHD\", data=df, ax=axes[1,0])\n",
    "sns.countplot(\"LocalBillType\", data=df, ax=axes[1,1])\n",
    "sns.countplot(\"LongDistanceBillType\", data=df, ax=axes[1,2])"
   ]
  },
  {
   "cell_type": "markdown",
   "id": "55bc0b27",
   "metadata": {},
   "source": [
    "## 1.2 Change the values of target variable into numeric"
   ]
  },
  {
   "cell_type": "code",
   "execution_count": 9,
   "id": "88152fd3",
   "metadata": {},
   "outputs": [],
   "source": [
    "churn_numeric = {'Current':0, 'Vol':1, 'InVol':2}\n",
    "df.CHURNED.replace(churn_numeric, inplace=True)"
   ]
  },
  {
   "cell_type": "markdown",
   "id": "7a3163c9",
   "metadata": {},
   "source": [
    "## 1.3 Continuous Features"
   ]
  },
  {
   "cell_type": "code",
   "execution_count": 10,
   "id": "629180a5",
   "metadata": {
    "scrolled": true
   },
   "outputs": [
    {
     "name": "stderr",
     "output_type": "stream",
     "text": [
      "C:\\ProgramData\\Anaconda3\\lib\\site-packages\\seaborn\\distributions.py:2619: FutureWarning: `distplot` is a deprecated function and will be removed in a future version. Please adapt your code to use either `displot` (a figure-level function with similar flexibility) or `histplot` (an axes-level function for histograms).\n",
      "  warnings.warn(msg, FutureWarning)\n",
      "C:\\ProgramData\\Anaconda3\\lib\\site-packages\\seaborn\\distributions.py:2619: FutureWarning: `distplot` is a deprecated function and will be removed in a future version. Please adapt your code to use either `displot` (a figure-level function with similar flexibility) or `histplot` (an axes-level function for histograms).\n",
      "  warnings.warn(msg, FutureWarning)\n"
     ]
    },
    {
     "data": {
      "text/plain": [
       "<AxesSubplot:xlabel='CHILDREN', ylabel='Density'>"
      ]
     },
     "execution_count": 10,
     "metadata": {},
     "output_type": "execute_result"
    },
    {
     "data": {
      "image/png": "[encoded data removed]",
      "text/plain": [
       "<Figure size 864x504 with 2 Axes>"
      ]
     },
     "metadata": {
      "needs_background": "light"
     },
     "output_type": "display_data"
    }
   ],
   "source": [
    "fig, axes = plt.subplots(1,2, figsize=(12, 7))\n",
    "sns.distplot(df[\"AGE\"], ax=axes[0])\n",
    "sns.distplot(df[\"CHILDREN\"], ax=axes[1])"
   ]
  },
  {
   "cell_type": "markdown",
   "id": "a904b742",
   "metadata": {},
   "source": [
    "Remarks:\n",
    "- According to the distribution of tenure variable, most of the customers are age mostly in 55-60.\n",
    "- There seems to be a gap between low rates and high rates for children seem like customer with no children has the highest freqeuncy."
   ]
  },
  {
   "cell_type": "markdown",
   "id": "1080472f",
   "metadata": {},
   "source": [
    "### 1.3.1 Churned By Age and Children"
   ]
  },
  {
   "cell_type": "code",
   "execution_count": 11,
   "id": "d38ca260",
   "metadata": {},
   "outputs": [
    {
     "data": {
      "text/html": [
       "<div>\n",
       "<style scoped>\n",
       "    .dataframe tbody tr th:only-of-type {\n",
       "        vertical-align: middle;\n",
       "    }\n",
       "\n",
       "    .dataframe tbody tr th {\n",
       "        vertical-align: top;\n",
       "    }\n",
       "\n",
       "    .dataframe thead th {\n",
       "        text-align: right;\n",
       "    }\n",
       "</style>\n",
       "<table border=\"1\" class=\"dataframe\">\n",
       "  <thead>\n",
       "    <tr style=\"text-align: right;\">\n",
       "      <th></th>\n",
       "      <th>AGE</th>\n",
       "      <th>CHILDREN</th>\n",
       "    </tr>\n",
       "    <tr>\n",
       "      <th>CHURNED</th>\n",
       "      <th></th>\n",
       "      <th></th>\n",
       "    </tr>\n",
       "  </thead>\n",
       "  <tbody>\n",
       "    <tr>\n",
       "      <th>0</th>\n",
       "      <td>56.429087</td>\n",
       "      <td>1.006010</td>\n",
       "    </tr>\n",
       "    <tr>\n",
       "      <th>1</th>\n",
       "      <td>59.113060</td>\n",
       "      <td>0.968811</td>\n",
       "    </tr>\n",
       "    <tr>\n",
       "      <th>2</th>\n",
       "      <td>58.681818</td>\n",
       "      <td>0.962121</td>\n",
       "    </tr>\n",
       "  </tbody>\n",
       "</table>\n",
       "</div>"
      ],
      "text/plain": [
       "               AGE  CHILDREN\n",
       "CHURNED                     \n",
       "0        56.429087  1.006010\n",
       "1        59.113060  0.968811\n",
       "2        58.681818  0.962121"
      ]
     },
     "execution_count": 11,
     "metadata": {},
     "output_type": "execute_result"
    }
   ],
   "source": [
    "df[['AGE','CHILDREN','CHURNED']].groupby('CHURNED').mean()"
   ]
  },
  {
   "cell_type": "markdown",
   "id": "2106fb51",
   "metadata": {},
   "source": [
    "Remarks:\n",
    "- It is clear that people who age 56 with 1 children is in current churned while people age 59 with no children in Vol churned, and people age 58 with no children is invol churned. "
   ]
  },
  {
   "cell_type": "markdown",
   "id": "f588b8a3",
   "metadata": {},
   "source": [
    "### 1.3.2 Churned By Est_Income and LongDist"
   ]
  },
  {
   "cell_type": "code",
   "execution_count": 12,
   "id": "bb112ad2",
   "metadata": {
    "scrolled": false
   },
   "outputs": [
    {
     "name": "stderr",
     "output_type": "stream",
     "text": [
      "C:\\ProgramData\\Anaconda3\\lib\\site-packages\\seaborn\\distributions.py:2619: FutureWarning: `distplot` is a deprecated function and will be removed in a future version. Please adapt your code to use either `displot` (a figure-level function with similar flexibility) or `histplot` (an axes-level function for histograms).\n",
      "  warnings.warn(msg, FutureWarning)\n",
      "C:\\ProgramData\\Anaconda3\\lib\\site-packages\\seaborn\\distributions.py:2619: FutureWarning: `distplot` is a deprecated function and will be removed in a future version. Please adapt your code to use either `displot` (a figure-level function with similar flexibility) or `histplot` (an axes-level function for histograms).\n",
      "  warnings.warn(msg, FutureWarning)\n"
     ]
    },
    {
     "data": {
      "text/plain": [
       "<AxesSubplot:xlabel='LONGDIST', ylabel='Density'>"
      ]
     },
     "execution_count": 12,
     "metadata": {},
     "output_type": "execute_result"
    },
    {
     "data": {
      "image/png": "[encoded data removed]",
      "text/plain": [
       "<Figure size 864x504 with 2 Axes>"
      ]
     },
     "metadata": {
      "needs_background": "light"
     },
     "output_type": "display_data"
    }
   ],
   "source": [
    "fig, axes = plt.subplots(1,2, figsize=(12, 7))\n",
    "sns.distplot(df[\"Est_Income\"], ax=axes[0])\n",
    "sns.distplot(df[\"LONGDIST\"], ax=axes[1])"
   ]
  },
  {
   "cell_type": "code",
   "execution_count": 36,
   "id": "33fa2142",
   "metadata": {
    "scrolled": true
   },
   "outputs": [
    {
     "data": {
      "text/html": [
       "<div>\n",
       "<style scoped>\n",
       "    .dataframe tbody tr th:only-of-type {\n",
       "        vertical-align: middle;\n",
       "    }\n",
       "\n",
       "    .dataframe tbody tr th {\n",
       "        vertical-align: top;\n",
       "    }\n",
       "\n",
       "    .dataframe thead th {\n",
       "        text-align: right;\n",
       "    }\n",
       "</style>\n",
       "<table border=\"1\" class=\"dataframe\">\n",
       "  <thead>\n",
       "    <tr style=\"text-align: right;\">\n",
       "      <th></th>\n",
       "      <th>Est_Income</th>\n",
       "      <th>LONGDIST</th>\n",
       "    </tr>\n",
       "    <tr>\n",
       "      <th>CHURNED</th>\n",
       "      <th></th>\n",
       "      <th></th>\n",
       "    </tr>\n",
       "  </thead>\n",
       "  <tbody>\n",
       "    <tr>\n",
       "      <th>0</th>\n",
       "      <td>52042.868135</td>\n",
       "      <td>15.042312</td>\n",
       "    </tr>\n",
       "    <tr>\n",
       "      <th>1</th>\n",
       "      <td>48366.650984</td>\n",
       "      <td>14.867554</td>\n",
       "    </tr>\n",
       "    <tr>\n",
       "      <th>2</th>\n",
       "      <td>46724.190000</td>\n",
       "      <td>0.000000</td>\n",
       "    </tr>\n",
       "  </tbody>\n",
       "</table>\n",
       "</div>"
      ],
      "text/plain": [
       "           Est_Income   LONGDIST\n",
       "CHURNED                         \n",
       "0        52042.868135  15.042312\n",
       "1        48366.650984  14.867554\n",
       "2        46724.190000   0.000000"
      ]
     },
     "execution_count": 36,
     "metadata": {},
     "output_type": "execute_result"
    }
   ],
   "source": [
    "df[['Est_Income','LONGDIST','CHURNED']].groupby('CHURNED').mean()"
   ]
  },
  {
   "cell_type": "markdown",
   "id": "30e99076",
   "metadata": {},
   "source": [
    "Remarks:\n",
    "- Customer Est_Income around 52042 with LongDist 15 has mostly current churned.\n",
    "- Customer Est_Income around 48366 with LongDist 14 has vol churned.\n",
    "- Customer Est_Income around 46724 with LongDist 0 has inVol churned."
   ]
  },
  {
   "cell_type": "markdown",
   "id": "b8671842",
   "metadata": {},
   "source": [
    "### 1.3.3 Churned By International and Local"
   ]
  },
  {
   "cell_type": "code",
   "execution_count": 37,
   "id": "54a8cd17",
   "metadata": {
    "scrolled": true
   },
   "outputs": [
    {
     "name": "stderr",
     "output_type": "stream",
     "text": [
      "C:\\ProgramData\\Anaconda3\\lib\\site-packages\\seaborn\\distributions.py:2619: FutureWarning: `distplot` is a deprecated function and will be removed in a future version. Please adapt your code to use either `displot` (a figure-level function with similar flexibility) or `histplot` (an axes-level function for histograms).\n",
      "  warnings.warn(msg, FutureWarning)\n",
      "C:\\ProgramData\\Anaconda3\\lib\\site-packages\\seaborn\\distributions.py:2619: FutureWarning: `distplot` is a deprecated function and will be removed in a future version. Please adapt your code to use either `displot` (a figure-level function with similar flexibility) or `histplot` (an axes-level function for histograms).\n",
      "  warnings.warn(msg, FutureWarning)\n"
     ]
    },
    {
     "data": {
      "text/plain": [
       "<AxesSubplot:xlabel='LOCAL', ylabel='Density'>"
      ]
     },
     "execution_count": 37,
     "metadata": {},
     "output_type": "execute_result"
    },
    {
     "data": {
      "image/png": "[encoded data removed]",
      "text/plain": [
       "<Figure size 864x504 with 2 Axes>"
      ]
     },
     "metadata": {
      "needs_background": "light"
     },
     "output_type": "display_data"
    }
   ],
   "source": [
    "fig, axes = plt.subplots(1,2, figsize=(12, 7))\n",
    "sns.distplot(df[\"International\"], ax=axes[0])\n",
    "sns.distplot(df[\"LOCAL\"], ax=axes[1])"
   ]
  },
  {
   "cell_type": "code",
   "execution_count": 38,
   "id": "79a1ca6c",
   "metadata": {},
   "outputs": [
    {
     "data": {
      "text/html": [
       "<div>\n",
       "<style scoped>\n",
       "    .dataframe tbody tr th:only-of-type {\n",
       "        vertical-align: middle;\n",
       "    }\n",
       "\n",
       "    .dataframe tbody tr th {\n",
       "        vertical-align: top;\n",
       "    }\n",
       "\n",
       "    .dataframe thead th {\n",
       "        text-align: right;\n",
       "    }\n",
       "</style>\n",
       "<table border=\"1\" class=\"dataframe\">\n",
       "  <thead>\n",
       "    <tr style=\"text-align: right;\">\n",
       "      <th></th>\n",
       "      <th>International</th>\n",
       "      <th>LOCAL</th>\n",
       "    </tr>\n",
       "    <tr>\n",
       "      <th>CHURNED</th>\n",
       "      <th></th>\n",
       "      <th></th>\n",
       "    </tr>\n",
       "  </thead>\n",
       "  <tbody>\n",
       "    <tr>\n",
       "      <th>0</th>\n",
       "      <td>0.322213</td>\n",
       "      <td>55.561042</td>\n",
       "    </tr>\n",
       "    <tr>\n",
       "      <th>1</th>\n",
       "      <td>1.885483</td>\n",
       "      <td>57.122975</td>\n",
       "    </tr>\n",
       "    <tr>\n",
       "      <th>2</th>\n",
       "      <td>0.000000</td>\n",
       "      <td>2.533348</td>\n",
       "    </tr>\n",
       "  </tbody>\n",
       "</table>\n",
       "</div>"
      ],
      "text/plain": [
       "         International      LOCAL\n",
       "CHURNED                          \n",
       "0             0.322213  55.561042\n",
       "1             1.885483  57.122975\n",
       "2             0.000000   2.533348"
      ]
     },
     "execution_count": 38,
     "metadata": {},
     "output_type": "execute_result"
    }
   ],
   "source": [
    "df[['International','LOCAL','CHURNED']].groupby('CHURNED').mean()"
   ]
  },
  {
   "cell_type": "markdown",
   "id": "1912b414",
   "metadata": {},
   "source": [
    "Remarks:\n",
    "\n",
    "- International customer is current churned with 0.32213 while local customer current churned 55.561042. \n",
    "- International customer is vol churned with 1.885483 while local customer current churned 57.122975.\n",
    "- International customer is invol churned with 0 while local customer current churned 2.533348."
   ]
  },
  {
   "cell_type": "markdown",
   "id": "de86772c",
   "metadata": {},
   "source": [
    "# 2. Data Preprocessing"
   ]
  },
  {
   "cell_type": "markdown",
   "id": "3ebc2253",
   "metadata": {},
   "source": [
    "After exploring the variables, I have decided not to use following variable because they add little or no informative power to the model:"
   ]
  },
  {
   "cell_type": "code",
   "execution_count": 14,
   "id": "c76fa75d",
   "metadata": {},
   "outputs": [],
   "source": [
    "df.drop(['ID','STATUS','Car_Owner','PAY_MTHD', 'LocalBillType', 'LongDistanceBillType'], axis=1, inplace=True)"
   ]
  },
  {
   "cell_type": "code",
   "execution_count": 15,
   "id": "4c52e642",
   "metadata": {},
   "outputs": [],
   "source": [
    "from sklearn.preprocessing import LabelEncoder, OneHotEncoder\n",
    "from sklearn.preprocessing import MinMaxScaler"
   ]
  },
  {
   "cell_type": "markdown",
   "id": "1b5c5e6c",
   "metadata": {},
   "source": [
    "## 2.1 Encoding categorical variables"
   ]
  },
  {
   "cell_type": "code",
   "execution_count": 16,
   "id": "1cb7a94e",
   "metadata": {},
   "outputs": [],
   "source": [
    "cat_features = ['SEX']\n",
    "X = pd.get_dummies(df, columns=cat_features, drop_first=True)"
   ]
  },
  {
   "cell_type": "markdown",
   "id": "e50936d0",
   "metadata": {},
   "source": [
    "## 2.2 Scaling continuous variables"
   ]
  },
  {
   "cell_type": "code",
   "execution_count": 17,
   "id": "75a7b9d5",
   "metadata": {},
   "outputs": [],
   "source": [
    "sc = MinMaxScaler()\n",
    "a = sc.fit_transform(df[['AGE']])\n",
    "b = sc.fit_transform(df[['CHILDREN']])\n",
    "X['AGE'] = a\n",
    "X['CHILDREN'] = b"
   ]
  },
  {
   "cell_type": "code",
   "execution_count": 18,
   "id": "75b00abf",
   "metadata": {},
   "outputs": [
    {
     "data": {
      "text/plain": [
       "(1477, 9)"
      ]
     },
     "execution_count": 18,
     "metadata": {},
     "output_type": "execute_result"
    }
   ],
   "source": [
    "X.shape"
   ]
  },
  {
   "cell_type": "markdown",
   "id": "ffcc1a66",
   "metadata": {},
   "source": [
    "## 2.3 Resampling"
   ]
  },
  {
   "cell_type": "markdown",
   "id": "7b59eb22",
   "metadata": {},
   "source": [
    "I will use upsampling which means increasing the number of samples of the class with less samples by randomly selecting rows from it."
   ]
  },
  {
   "cell_type": "code",
   "execution_count": 19,
   "id": "6c050654",
   "metadata": {},
   "outputs": [
    {
     "name": "stderr",
     "output_type": "stream",
     "text": [
      "C:\\ProgramData\\Anaconda3\\lib\\site-packages\\seaborn\\_decorators.py:36: FutureWarning: Pass the following variable as a keyword arg: x. From version 0.12, the only valid positional argument will be `data`, and passing other arguments without an explicit keyword will result in an error or misinterpretation.\n",
      "  warnings.warn(\n"
     ]
    },
    {
     "data": {
      "text/plain": [
       "Text(0.5, 1.0, 'Class Distribution Before Resampling')"
      ]
     },
     "execution_count": 19,
     "metadata": {},
     "output_type": "execute_result"
    },
    {
     "data": {
      "image/png": "[encoded data removed]",
      "text/plain": [
       "<Figure size 432x288 with 1 Axes>"
      ]
     },
     "metadata": {
      "needs_background": "light"
     },
     "output_type": "display_data"
    }
   ],
   "source": [
    "sns.countplot('CHURNED', data=df).set_title('Class Distribution Before Resampling')"
   ]
  },
  {
   "cell_type": "markdown",
   "id": "1de176f9",
   "metadata": {},
   "source": [
    "## 2.4 Separating class (churn=Current, churn=Vol, churn=InVol )"
   ]
  },
  {
   "cell_type": "code",
   "execution_count": 20,
   "id": "8eabcb7b",
   "metadata": {},
   "outputs": [],
   "source": [
    "X_Current = X[X.CHURNED == 0]\n",
    "X_Vol = X[X.CHURNED == 1]\n",
    "X_InVol = X[X.CHURNED == 2]"
   ]
  },
  {
   "cell_type": "markdown",
   "id": "0e119722",
   "metadata": {},
   "source": [
    "## 2.5 Using class (Churned=Current and Churned= Vol)"
   ]
  },
  {
   "cell_type": "markdown",
   "id": "63b6daa9",
   "metadata": {},
   "source": [
    "Based on the exploring the variables, I have decided not to use Vhurned=InVol variable because has ittle or no informative power to the model also"
   ]
  },
  {
   "cell_type": "code",
   "execution_count": 21,
   "id": "5b58bb1f",
   "metadata": {},
   "outputs": [
    {
     "name": "stdout",
     "output_type": "stream",
     "text": [
      "832\n"
     ]
    }
   ],
   "source": [
    "X_Vol_upsampled = X_Vol.sample(n=len(X_Current), replace=True, random_state=42)\n",
    "print(len(X_Vol_upsampled))"
   ]
  },
  {
   "cell_type": "markdown",
   "id": "cc3a7a6b",
   "metadata": {},
   "source": [
    "## 2.6 Combining positive and negative class and checking class distribution"
   ]
  },
  {
   "cell_type": "code",
   "execution_count": 22,
   "id": "22eabd5d",
   "metadata": {
    "scrolled": true
   },
   "outputs": [
    {
     "name": "stderr",
     "output_type": "stream",
     "text": [
      "C:\\ProgramData\\Anaconda3\\lib\\site-packages\\seaborn\\_decorators.py:36: FutureWarning: Pass the following variable as a keyword arg: x. From version 0.12, the only valid positional argument will be `data`, and passing other arguments without an explicit keyword will result in an error or misinterpretation.\n",
      "  warnings.warn(\n"
     ]
    },
    {
     "data": {
      "text/plain": [
       "Text(0.5, 1.0, 'Class Distribution After Resampling')"
      ]
     },
     "execution_count": 22,
     "metadata": {},
     "output_type": "execute_result"
    },
    {
     "data": {
      "image/png": "[encoded data removed]",
      "text/plain": [
       "<Figure size 432x288 with 1 Axes>"
      ]
     },
     "metadata": {
      "needs_background": "light"
     },
     "output_type": "display_data"
    }
   ],
   "source": [
    "X_upsampled = X_Current.append(X_Vol_upsampled).reset_index(drop=True)\n",
    "sns.countplot('CHURNED', data=X_upsampled).set_title('Class Distribution After Resampling')"
   ]
  },
  {
   "cell_type": "markdown",
   "id": "947c109d",
   "metadata": {},
   "source": [
    "# 3. Model Creation and Evaluation"
   ]
  },
  {
   "cell_type": "code",
   "execution_count": 23,
   "id": "85f74dea",
   "metadata": {},
   "outputs": [],
   "source": [
    "from sklearn.model_selection import train_test_split\n",
    "X = X_upsampled.drop(['CHURNED'], axis=1) #features (independent variables)\n",
    "y = X_upsampled['CHURNED'] #target (dependent variable)"
   ]
  },
  {
   "cell_type": "markdown",
   "id": "e2349158",
   "metadata": {},
   "source": [
    "## 3.1 Dividing dataset into train and test subsets:"
   ]
  },
  {
   "cell_type": "code",
   "execution_count": 24,
   "id": "8d36e683",
   "metadata": {},
   "outputs": [],
   "source": [
    "X_train, X_test, y_train, y_test = train_test_split(X, y, test_size = 0.2, random_state=42)"
   ]
  },
  {
   "cell_type": "markdown",
   "id": "29b11f73",
   "metadata": {},
   "source": [
    "## 3.2 Ridge Classifier"
   ]
  },
  {
   "cell_type": "code",
   "execution_count": 25,
   "id": "860b5013",
   "metadata": {},
   "outputs": [],
   "source": [
    "from sklearn.linear_model import RidgeClassifier\n",
    "from sklearn.metrics import accuracy_score"
   ]
  },
  {
   "cell_type": "markdown",
   "id": "b09e2e97",
   "metadata": {},
   "source": [
    "### 3.2.1 Creating a ridge classifier object and training it:"
   ]
  },
  {
   "cell_type": "code",
   "execution_count": 26,
   "id": "b4fcea57",
   "metadata": {
    "scrolled": true
   },
   "outputs": [
    {
     "data": {
      "text/plain": [
       "RidgeClassifier()"
      ]
     },
     "execution_count": 26,
     "metadata": {},
     "output_type": "execute_result"
    }
   ],
   "source": [
    "clf_ridge = RidgeClassifier() #create a ridge classifier object\n",
    "clf_ridge.fit(X_train, y_train) #train the model"
   ]
  },
  {
   "cell_type": "markdown",
   "id": "354eb329",
   "metadata": {},
   "source": [
    "### 3.2.2 Making predictions on training set and evaluating"
   ]
  },
  {
   "cell_type": "code",
   "execution_count": 27,
   "id": "9a6424a8",
   "metadata": {},
   "outputs": [
    {
     "data": {
      "text/plain": [
       "0.7851239669421488"
      ]
     },
     "execution_count": 27,
     "metadata": {},
     "output_type": "execute_result"
    }
   ],
   "source": [
    "pred = clf_ridge.predict(X_train)\n",
    "accuracy_score(y_train, pred)"
   ]
  },
  {
   "cell_type": "markdown",
   "id": "4b2c11d0",
   "metadata": {},
   "source": [
    "### 3.2.3 Making predictions on training set and evaluating"
   ]
  },
  {
   "cell_type": "code",
   "execution_count": 28,
   "id": "4324bc58",
   "metadata": {},
   "outputs": [
    {
     "data": {
      "text/plain": [
       "0.7927927927927928"
      ]
     },
     "execution_count": 28,
     "metadata": {},
     "output_type": "execute_result"
    }
   ],
   "source": [
    "pred_test = clf_ridge.predict(X_test)\n",
    "accuracy_score(y_test, pred_test)"
   ]
  },
  {
   "cell_type": "markdown",
   "id": "196789e8",
   "metadata": {},
   "source": [
    "Remarks:\n",
    "- The model achieved 78% accuracy on training set and 79% accuracy on test set. \n",
    "- The model is not overfitting because accuracies on training and test sets are pretty close.\n",
    "- However, 78% accuracy is not very good so we will try to get a better accuracy using a different model."
   ]
  },
  {
   "cell_type": "markdown",
   "id": "b98e1782",
   "metadata": {},
   "source": [
    "## 3.3 Random Forest"
   ]
  },
  {
   "cell_type": "code",
   "execution_count": 29,
   "id": "61b95957",
   "metadata": {},
   "outputs": [],
   "source": [
    "from sklearn.ensemble import RandomForestClassifier"
   ]
  },
  {
   "cell_type": "markdown",
   "id": "4ec5b499",
   "metadata": {},
   "source": [
    "### 3.3.1 Creating a random forest object and training it"
   ]
  },
  {
   "cell_type": "code",
   "execution_count": 30,
   "id": "11f5897d",
   "metadata": {},
   "outputs": [
    {
     "data": {
      "text/plain": [
       "RandomForestClassifier(max_depth=10)"
      ]
     },
     "execution_count": 30,
     "metadata": {},
     "output_type": "execute_result"
    }
   ],
   "source": [
    "clf_forest = RandomForestClassifier(n_estimators=100, max_depth=10)\n",
    "clf_forest.fit(X_train, y_train)"
   ]
  },
  {
   "cell_type": "markdown",
   "id": "f377c8a1",
   "metadata": {},
   "source": [
    "Remarks:\n",
    "- There are two parameters we need to mention here.\n",
    "        i) n_estimators: The number of trees in the forest.\n",
    "        ii) max_depth: The maximum depth of the tree.\n",
    "        \n",
    "- These parameters have critical roles in the accuracy of model and also preventing the model from overfitting. \n",
    "- In general, if we use deep trees (max_depth is very high), the model may end up overfitting."
   ]
  },
  {
   "cell_type": "markdown",
   "id": "4f268ab0",
   "metadata": {},
   "source": [
    "### 3.3.2 Making predictions on training set and evaluating"
   ]
  },
  {
   "cell_type": "code",
   "execution_count": 31,
   "id": "b7978d9d",
   "metadata": {},
   "outputs": [
    {
     "data": {
      "text/plain": [
       "0.9579263711495116"
      ]
     },
     "execution_count": 31,
     "metadata": {},
     "output_type": "execute_result"
    }
   ],
   "source": [
    "pred = clf_forest.predict(X_train)\n",
    "accuracy_score(y_train, pred)"
   ]
  },
  {
   "cell_type": "markdown",
   "id": "de072491",
   "metadata": {},
   "source": [
    "### 3.3.3 Making predictions on test set and evaluating"
   ]
  },
  {
   "cell_type": "code",
   "execution_count": 32,
   "id": "9b08ef1f",
   "metadata": {},
   "outputs": [
    {
     "data": {
      "text/plain": [
       "0.9159159159159159"
      ]
     },
     "execution_count": 32,
     "metadata": {},
     "output_type": "execute_result"
    }
   ],
   "source": [
    "pred_test = clf_forest.predict(X_test)\n",
    "accuracy_score(y_test, pred_test)"
   ]
  },
  {
   "cell_type": "markdown",
   "id": "31b35ec9",
   "metadata": {},
   "source": [
    "- The accuracy on training set is 4% higher than the accuracy on test set."
   ]
  },
  {
   "cell_type": "markdown",
   "id": "736ad817",
   "metadata": {},
   "source": [
    "# 4. Improving the Model"
   ]
  },
  {
   "cell_type": "code",
   "execution_count": 33,
   "id": "3beae015",
   "metadata": {},
   "outputs": [],
   "source": [
    "from sklearn.model_selection import GridSearchCV"
   ]
  },
  {
   "cell_type": "markdown",
   "id": "a1f7ad50",
   "metadata": {},
   "source": [
    "Remarks: \n",
    "GridSearchCV provides an easy way for parameter tuning. We can do cross-validation and try different parameters using GridSearchCV."
   ]
  },
  {
   "cell_type": "markdown",
   "id": "c9f82707",
   "metadata": {},
   "source": [
    "## 4.1 Creating a GridSearchCV object"
   ]
  },
  {
   "cell_type": "code",
   "execution_count": 34,
   "id": "bc27ccaa",
   "metadata": {},
   "outputs": [],
   "source": [
    "parameters = {'n_estimators':[150,200,250,300], 'max_depth':[15,20,25]}\n",
    "forest = RandomForestClassifier()\n",
    "clf = GridSearchCV(estimator=forest, param_grid=parameters, n_jobs=-1, cv=5)"
   ]
  },
  {
   "cell_type": "markdown",
   "id": "351fd00f",
   "metadata": {},
   "source": [
    "Remarks:\n",
    "- cv = 5 means having a 5-fold cross validation. \n",
    "- So dataset is divided into 5 subset. \n",
    "- At each iteration, 4 subsets are used in training and the other subset is used as test set.\n",
    "- When 5 iteration completed, the model used all samples as both training and test samples.\n",
    "- n_jobs parameter is used to select how many processors to use. \n",
    "- -1 means using all processors."
   ]
  },
  {
   "cell_type": "code",
   "execution_count": 35,
   "id": "c6b091be",
   "metadata": {
    "scrolled": true
   },
   "outputs": [
    {
     "data": {
      "text/plain": [
       "GridSearchCV(cv=5, estimator=RandomForestClassifier(), n_jobs=-1,\n",
       "             param_grid={'max_depth': [15, 20, 25],\n",
       "                         'n_estimators': [150, 200, 250, 300]})"
      ]
     },
     "execution_count": 35,
     "metadata": {},
     "output_type": "execute_result"
    }
   ],
   "source": [
    "clf.fit(X, y)"
   ]
  },
  {
   "cell_type": "markdown",
   "id": "faeb559d",
   "metadata": {},
   "source": [
    "## 4.2 Check the best parameters and overall accuracy"
   ]
  },
  {
   "cell_type": "code",
   "execution_count": 39,
   "id": "2e4f97d0",
   "metadata": {},
   "outputs": [
    {
     "data": {
      "text/plain": [
       "0.8936231412135026"
      ]
     },
     "execution_count": 39,
     "metadata": {},
     "output_type": "execute_result"
    }
   ],
   "source": [
    "clf.best_params_\n",
    "{'max_depth': 20, 'n_estimators': 150}\n",
    "clf.best_score_"
   ]
  },
  {
   "cell_type": "markdown",
   "id": "144d0f8e",
   "metadata": {},
   "source": [
    "Remarks: \n",
    "- have achieved an overall accuracy of almost 90%. \n",
    "- This is the mean cross-validated score of the best_estimator. \n",
    "- In the previous random forest, the mean score was approximately 86% (95% on training and 91% on test).\n",
    "- However using GridSearchCV, the model accuracy by is not improved."
   ]
  },
  {
   "cell_type": "markdown",
   "id": "e6e141c7",
   "metadata": {},
   "source": [
    "# Conclusion"
   ]
  },
  {
   "cell_type": "markdown",
   "id": "94f0ed8d",
   "metadata": {},
   "source": [
    "- Churn rate is a health indicator for subscription-based companies. The ability to identify customers that aren’t happy with provided solutions allows businesses to learn about product or pricing plan weak points, operation issues, as well as customer preferences and expectations to proactively reduce reasons for churn.\n",
    "- Based on the prediction customer who are age around 56-60 with one children are susceptibility will stop doing business with the company.\n",
    "- By using the Random Forest algorithm, the accuracy training set is 95.8% and testing set is 91.8% which is higher than Ridge Classifier and GridSearchCV. "
   ]
  }
 ],
 "metadata": {
  "kernelspec": {
   "display_name": "Python 3 (ipykernel)",
   "language": "python",
   "name": "python3"
  },
  "language_info": {
   "codemirror_mode": {
    "name": "ipython",
    "version": 3
   },
   "file_extension": ".py",
   "mimetype": "text/x-python",
   "name": "python",
   "nbconvert_exporter": "python",
   "pygments_lexer": "ipython3",
   "version": "3.9.7"
  }
 },
 "nbformat": 4,
 "nbformat_minor": 5
}
